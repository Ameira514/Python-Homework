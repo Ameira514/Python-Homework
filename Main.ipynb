{
 "cells": [
  {
   "cell_type": "code",
   "execution_count": 1,
   "metadata": {},
   "outputs": [],
   "source": [
    "from pathlib import Path\n",
    "import csv\n",
    "from numpy import mean"
   ]
  },
  {
   "cell_type": "code",
   "execution_count": 19,
   "metadata": {},
   "outputs": [
    {
     "name": "stdout",
     "output_type": "stream",
     "text": [
      "Financial Analysis\n",
      "----------------------------\n",
      "Total Months: 86\n",
      "Total: $38382578\n",
      "Average  Change: $-2315.12\n",
      "Greatest Increase in Profits: Feb-2012 ($1926159)\n",
      "Greatest Decrease in Profits: Sep-2013 ($-2196167)\n"
     ]
    }
   ],
   "source": [
    "data = open(\"budget_data.csv\", \"r\")\n",
    "header = data.readline()\n",
    "\n",
    "total_months = 0\n",
    "total_rev = 0\n",
    "max_gain = 0\n",
    "max_loss = 0\n",
    "cur_rev = 0\n",
    "prev_rev = 0\n",
    "total = prev_rev\n",
    "total_revenue_ls = []\n",
    "# changes_ls = []\n",
    "min_month = ''\n",
    "max_month = ''\n",
    "dat_ls = []\n",
    "\n",
    "index = 0\n",
    "for line in data:\n",
    "    dat = line.split(',')\n",
    "    month = dat[0]\n",
    "    prev_rev = int(dat[1])\n",
    "    \n",
    "    total_revenue_ls.append(prev_rev)\n",
    "    max_increase = prev_rev\n",
    "    min_decrease = prev_rev\n",
    "    \n",
    "    dat_ls.append(dat)\n",
    "    \n",
    "    # changes_ls.append(cur_rev - prev_rev)\n",
    "\n",
    "    # if cur_rev >= max_gain: \n",
    "    #     max_gain = max(delta_ls)\n",
    "    #     max_month = month\n",
    "    # elif cur_rev <= max_loss:\n",
    "    #     max_loss= min(delta_ls)\n",
    "    #     min_month = month\n",
    "\n",
    "    total_rev += prev_rev\n",
    "    total_months += 1\n",
    "\n",
    "\n",
    "delta_ls = []\n",
    "\n",
    "for i in range(len(total_revenue_ls)-1):\n",
    "    previous = total_revenue_ls[i]\n",
    "    current = total_revenue_ls[i+1]\n",
    "    delta = current - previous\n",
    "    delta_ls.append(delta)\n",
    "\n",
    "\n",
    "max_gain = max(delta_ls)\n",
    "max_index = delta_ls.index(max_gain) + 1\n",
    "min_index = delta_ls.index(min_gain) + 1\n",
    "max_loss = min(delta_ls)\n",
    "average = mean(delta_ls)\n",
    "\n",
    "max_month = dat_ls[max_index][0]\n",
    "min_month = dat_ls[min_index][0]\n",
    "\n",
    "# print(total_months)\n",
    "# print(net)\n",
    "# print(average)\n",
    "# print(max_gain)\n",
    "# print(max_loss)\n",
    "\n",
    "\n",
    "# line = data.readline()\n",
    "\n",
    "print(f\"Financial Analysis\")\n",
    "print(f\"----------------------------\")\n",
    "print(f\"Total Months: {total_months}\")\n",
    "print(f\"Total: ${total_rev}\")\n",
    "print(f\"Average  Change: ${round(average,2)}\")\n",
    "print(f\"Greatest Increase in Profits: {max_month} (${max_gain})\")\n",
    "print(f\"Greatest Decrease in Profits: {min_month} (${max_loss})\")\n",
    "    \n",
    "    "
   ]
  },
  {
   "cell_type": "code",
   "execution_count": null,
   "metadata": {},
   "outputs": [],
   "source": []
  },
  {
   "cell_type": "code",
   "execution_count": null,
   "metadata": {},
   "outputs": [],
   "source": []
  }
 ],
 "metadata": {
  "interpreter": {
   "hash": "aee8b7b246df8f9039afb4144a1f6fd8d2ca17a180786b69acc140d282b71a49"
  },
  "kernelspec": {
   "display_name": "Python 3 (ipykernel)",
   "language": "python",
   "name": "python3"
  },
  "language_info": {
   "codemirror_mode": {
    "name": "ipython",
    "version": 3
   },
   "file_extension": ".py",
   "mimetype": "text/x-python",
   "name": "python",
   "nbconvert_exporter": "python",
   "pygments_lexer": "ipython3",
   "version": "3.9.7"
  }
 },
 "nbformat": 4,
 "nbformat_minor": 4
}
